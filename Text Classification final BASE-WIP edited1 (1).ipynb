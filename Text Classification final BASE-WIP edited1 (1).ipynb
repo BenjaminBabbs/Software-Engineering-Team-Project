{
 "cells": [
  {
   "cell_type": "markdown",
   "metadata": {},
   "source": [
    "## Read Data"
   ]
  },
  {
   "cell_type": "code",
   "execution_count": 12,
   "metadata": {},
   "outputs": [],
   "source": [
    "import pandas as pd\n",
    " \n",
    "#this assumes one json item per line in json file\n",
    "df=pd.read_json(\"news_category_dataset.json\", lines=True)"
   ]
  },
  {
   "cell_type": "code",
   "execution_count": 13,
   "metadata": {},
   "outputs": [
    {
     "data": {
      "text/plain": [
       "short_description            object\n",
       "headline                     object\n",
       "date                 datetime64[ns]\n",
       "link                         object\n",
       "authors                      object\n",
       "category                     object\n",
       "dtype: object"
      ]
     },
     "execution_count": 13,
     "metadata": {},
     "output_type": "execute_result"
    }
   ],
   "source": [
    "df.dtypes"
   ]
  },
  {
   "cell_type": "code",
   "execution_count": 14,
   "metadata": {},
   "outputs": [
    {
     "data": {
      "text/plain": [
       "124989"
      ]
     },
     "execution_count": 14,
     "metadata": {},
     "output_type": "execute_result"
    }
   ],
   "source": [
    "#number of rows (datapoints)\n",
    "len(df)"
   ]
  },
  {
   "cell_type": "code",
   "execution_count": 15,
   "metadata": {},
   "outputs": [
    {
     "data": {
      "text/html": [
       "<div>\n",
       "<style scoped>\n",
       "    .dataframe tbody tr th:only-of-type {\n",
       "        vertical-align: middle;\n",
       "    }\n",
       "\n",
       "    .dataframe tbody tr th {\n",
       "        vertical-align: top;\n",
       "    }\n",
       "\n",
       "    .dataframe thead th {\n",
       "        text-align: right;\n",
       "    }\n",
       "</style>\n",
       "<table border=\"1\" class=\"dataframe\">\n",
       "  <thead>\n",
       "    <tr style=\"text-align: right;\">\n",
       "      <th></th>\n",
       "      <th>short_description</th>\n",
       "      <th>headline</th>\n",
       "      <th>date</th>\n",
       "      <th>link</th>\n",
       "      <th>authors</th>\n",
       "      <th>category</th>\n",
       "    </tr>\n",
       "  </thead>\n",
       "  <tbody>\n",
       "    <tr>\n",
       "      <th>53434</th>\n",
       "      <td>Rabbi Emeritus Haskel Lookstein apparently isn...</td>\n",
       "      <td>Top Rabbi At Jared Kushner's Synagogue To Spea...</td>\n",
       "      <td>2016-07-14</td>\n",
       "      <td>https://www.huffingtonpost.com/entry/rabbi-kus...</td>\n",
       "      <td>Jessica Schulberg</td>\n",
       "      <td>POLITICS</td>\n",
       "    </tr>\n",
       "    <tr>\n",
       "      <th>86893</th>\n",
       "      <td>Let everyone not wrapped in tired and disprove...</td>\n",
       "      <td></td>\n",
       "      <td>2015-06-30</td>\n",
       "      <td>https://www.huffingtonpost.com/entry/post_9671...</td>\n",
       "      <td>Matthew Fox, ContributorRadical theologian Mat...</td>\n",
       "      <td>RELIGION</td>\n",
       "    </tr>\n",
       "    <tr>\n",
       "      <th>84401</th>\n",
       "      <td>Suspenseful scenes hold our attention -- and s...</td>\n",
       "      <td>Study Explains Why Some Movies Are So Freakin'...</td>\n",
       "      <td>2015-07-29</td>\n",
       "      <td>https://www.huffingtonpost.com/entry/study-exp...</td>\n",
       "      <td>Maddie Crum</td>\n",
       "      <td>ARTS &amp; CULTURE</td>\n",
       "    </tr>\n",
       "    <tr>\n",
       "      <th>68837</th>\n",
       "      <td>Washington (CNN) -- The emails on Hillary Clin...</td>\n",
       "      <td>Hillary Clinton's Private Email Server Contain...</td>\n",
       "      <td>2016-01-20</td>\n",
       "      <td>https://www.huffingtonpost.comhttp://www.cnn.c...</td>\n",
       "      <td></td>\n",
       "      <td>POLITICS</td>\n",
       "    </tr>\n",
       "    <tr>\n",
       "      <th>70822</th>\n",
       "      <td>\"My hope is that many people in many different...</td>\n",
       "      <td>Korea's First-Ever Openly Gay Student Council ...</td>\n",
       "      <td>2015-12-29</td>\n",
       "      <td>https://www.huffingtonpost.com/entry/korea-ope...</td>\n",
       "      <td>ByungChul Kim, HuffPost Korea</td>\n",
       "      <td>QUEER VOICES</td>\n",
       "    </tr>\n",
       "    <tr>\n",
       "      <th>...</th>\n",
       "      <td>...</td>\n",
       "      <td>...</td>\n",
       "      <td>...</td>\n",
       "      <td>...</td>\n",
       "      <td>...</td>\n",
       "      <td>...</td>\n",
       "    </tr>\n",
       "    <tr>\n",
       "      <th>49134</th>\n",
       "      <td>We can’t wait to be their guest.</td>\n",
       "      <td>Emma Watson Flirts With The Beast In 'Beauty A...</td>\n",
       "      <td>2016-09-01</td>\n",
       "      <td>https://www.huffingtonpost.com/entry/emma-wats...</td>\n",
       "      <td>Cole Delbyck</td>\n",
       "      <td>ENTERTAINMENT</td>\n",
       "    </tr>\n",
       "    <tr>\n",
       "      <th>80646</th>\n",
       "      <td>She called judging the show \"one of the worst ...</td>\n",
       "      <td>Ellen DeGeneres Hated Judging 'American Idol,'...</td>\n",
       "      <td>2015-09-09</td>\n",
       "      <td>https://www.huffingtonpost.com/entry/ellen-deg...</td>\n",
       "      <td>Stephanie Marcus</td>\n",
       "      <td>ENTERTAINMENT</td>\n",
       "    </tr>\n",
       "    <tr>\n",
       "      <th>122696</th>\n",
       "      <td>When someone you love is sick, it's like you'r...</td>\n",
       "      <td>5 Things Cancer Taught Me About Being A Doctor</td>\n",
       "      <td>2014-05-15</td>\n",
       "      <td>https://www.huffingtonpost.com/entry/living-wi...</td>\n",
       "      <td>Dr. Nikhil Joshi, ContributorPhysician, speake...</td>\n",
       "      <td>HEALTHY LIVING</td>\n",
       "    </tr>\n",
       "    <tr>\n",
       "      <th>43299</th>\n",
       "      <td></td>\n",
       "      <td>A Psychotherapist Reacts to Today's Political ...</td>\n",
       "      <td>2016-11-06</td>\n",
       "      <td>https://www.huffingtonpost.com/entry/a-psychot...</td>\n",
       "      <td>Laurie Hollman, Ph.D., ContributorInfant-Paren...</td>\n",
       "      <td>POLITICS</td>\n",
       "    </tr>\n",
       "    <tr>\n",
       "      <th>69444</th>\n",
       "      <td>HOT mama.</td>\n",
       "      <td>Kim Kardashian Is A Natural Beauty In This Rac...</td>\n",
       "      <td>2016-01-14</td>\n",
       "      <td>https://www.huffingtonpost.com/entry/kim-karda...</td>\n",
       "      <td>Jamie Feldman</td>\n",
       "      <td>STYLE</td>\n",
       "    </tr>\n",
       "  </tbody>\n",
       "</table>\n",
       "<p>100 rows × 6 columns</p>\n",
       "</div>"
      ],
      "text/plain": [
       "                                        short_description  \\\n",
       "53434   Rabbi Emeritus Haskel Lookstein apparently isn...   \n",
       "86893   Let everyone not wrapped in tired and disprove...   \n",
       "84401   Suspenseful scenes hold our attention -- and s...   \n",
       "68837   Washington (CNN) -- The emails on Hillary Clin...   \n",
       "70822   \"My hope is that many people in many different...   \n",
       "...                                                   ...   \n",
       "49134                    We can’t wait to be their guest.   \n",
       "80646   She called judging the show \"one of the worst ...   \n",
       "122696  When someone you love is sick, it's like you'r...   \n",
       "43299                                                       \n",
       "69444                                           HOT mama.   \n",
       "\n",
       "                                                 headline       date  \\\n",
       "53434   Top Rabbi At Jared Kushner's Synagogue To Spea... 2016-07-14   \n",
       "86893                                                     2015-06-30   \n",
       "84401   Study Explains Why Some Movies Are So Freakin'... 2015-07-29   \n",
       "68837   Hillary Clinton's Private Email Server Contain... 2016-01-20   \n",
       "70822   Korea's First-Ever Openly Gay Student Council ... 2015-12-29   \n",
       "...                                                   ...        ...   \n",
       "49134   Emma Watson Flirts With The Beast In 'Beauty A... 2016-09-01   \n",
       "80646   Ellen DeGeneres Hated Judging 'American Idol,'... 2015-09-09   \n",
       "122696     5 Things Cancer Taught Me About Being A Doctor 2014-05-15   \n",
       "43299   A Psychotherapist Reacts to Today's Political ... 2016-11-06   \n",
       "69444   Kim Kardashian Is A Natural Beauty In This Rac... 2016-01-14   \n",
       "\n",
       "                                                     link  \\\n",
       "53434   https://www.huffingtonpost.com/entry/rabbi-kus...   \n",
       "86893   https://www.huffingtonpost.com/entry/post_9671...   \n",
       "84401   https://www.huffingtonpost.com/entry/study-exp...   \n",
       "68837   https://www.huffingtonpost.comhttp://www.cnn.c...   \n",
       "70822   https://www.huffingtonpost.com/entry/korea-ope...   \n",
       "...                                                   ...   \n",
       "49134   https://www.huffingtonpost.com/entry/emma-wats...   \n",
       "80646   https://www.huffingtonpost.com/entry/ellen-deg...   \n",
       "122696  https://www.huffingtonpost.com/entry/living-wi...   \n",
       "43299   https://www.huffingtonpost.com/entry/a-psychot...   \n",
       "69444   https://www.huffingtonpost.com/entry/kim-karda...   \n",
       "\n",
       "                                                  authors        category  \n",
       "53434                                   Jessica Schulberg        POLITICS  \n",
       "86893   Matthew Fox, ContributorRadical theologian Mat...        RELIGION  \n",
       "84401                                         Maddie Crum  ARTS & CULTURE  \n",
       "68837                                                            POLITICS  \n",
       "70822                       ByungChul Kim, HuffPost Korea    QUEER VOICES  \n",
       "...                                                   ...             ...  \n",
       "49134                                        Cole Delbyck   ENTERTAINMENT  \n",
       "80646                                    Stephanie Marcus   ENTERTAINMENT  \n",
       "122696  Dr. Nikhil Joshi, ContributorPhysician, speake...  HEALTHY LIVING  \n",
       "43299   Laurie Hollman, Ph.D., ContributorInfant-Paren...        POLITICS  \n",
       "69444                                       Jamie Feldman           STYLE  \n",
       "\n",
       "[100 rows x 6 columns]"
      ]
     },
     "execution_count": 15,
     "metadata": {},
     "output_type": "execute_result"
    }
   ],
   "source": [
    "df.sample(100)"
   ]
  },
  {
   "cell_type": "markdown",
   "metadata": {},
   "source": [
    "## Date range\n",
    "Articles are between July 2014 and July 2018"
   ]
  },
  {
   "cell_type": "code",
   "execution_count": 16,
   "metadata": {},
   "outputs": [
    {
     "data": {
      "text/plain": [
       "<AxesSubplot:>"
      ]
     },
     "execution_count": 16,
     "metadata": {},
     "output_type": "execute_result"
    },
    {
     "data": {
      "image/png": "[encoded data removed]",
      "text/plain": [
       "<Figure size 864x432 with 1 Axes>"
      ]
     },
     "metadata": {
      "needs_background": "light"
     },
     "output_type": "display_data"
    }
   ],
   "source": [
    "df.date.hist(figsize=(12,6),color='#86bf91',)\n"
   ]
  },
  {
   "cell_type": "markdown",
   "metadata": {},
   "source": [
    "## Category Distribution\n",
    "\n",
    "### Number of categories"
   ]
  },
  {
   "cell_type": "code",
   "execution_count": 17,
   "metadata": {},
   "outputs": [
    {
     "data": {
      "text/plain": [
       "31"
      ]
     },
     "execution_count": 17,
     "metadata": {},
     "output_type": "execute_result"
    }
   ],
   "source": [
    "len(set(df['category'].values))"
   ]
  },
  {
   "cell_type": "markdown",
   "metadata": {},
   "source": [
    "### Category by count\n",
    "\n",
    "Most of the articles are related to politics. Education related articles have the lowest volume."
   ]
  },
  {
   "cell_type": "code",
   "execution_count": 18,
   "metadata": {},
   "outputs": [
    {
     "data": {
      "text/plain": [
       "<AxesSubplot:>"
      ]
     },
     "execution_count": 18,
     "metadata": {},
     "output_type": "execute_result"
    },
    {
     "data": {
      "image/png": "[encoded data removed]",
      "text/plain": [
       "<Figure size 432x288 with 1 Axes>"
      ]
     },
     "metadata": {
      "needs_background": "light"
     },
     "output_type": "display_data"
    }
   ],
   "source": [
    "df['category'].value_counts().plot(kind='bar')"
   ]
  },
  {
   "cell_type": "code",
   "execution_count": 19,
   "metadata": {},
   "outputs": [
    {
     "data": {
      "text/plain": [
       "POLITICS          32739\n",
       "ENTERTAINMENT     14257\n",
       "HEALTHY LIVING     6694\n",
       "QUEER VOICES       4995\n",
       "BUSINESS           4254\n",
       "SPORTS             4167\n",
       "COMEDY             3971\n",
       "PARENTS            3955\n",
       "BLACK VOICES       3858\n",
       "THE WORLDPOST      3664\n",
       "WOMEN              3490\n",
       "CRIME              2893\n",
       "MEDIA              2815\n",
       "WEIRD NEWS         2670\n",
       "GREEN              2622\n",
       "IMPACT             2602\n",
       "WORLDPOST          2579\n",
       "RELIGION           2556\n",
       "STYLE              2254\n",
       "WORLD NEWS         2177\n",
       "TRAVEL             2145\n",
       "TASTE              2096\n",
       "ARTS               1509\n",
       "FIFTY              1401\n",
       "GOOD NEWS          1398\n",
       "SCIENCE            1381\n",
       "ARTS & CULTURE     1339\n",
       "TECH               1231\n",
       "COLLEGE            1144\n",
       "LATINO VOICES      1129\n",
       "EDUCATION          1004\n",
       "Name: category, dtype: int64"
      ]
     },
     "execution_count": 19,
     "metadata": {},
     "output_type": "execute_result"
    }
   ],
   "source": [
    "df['category'].value_counts()"
   ]
  },
  {
   "cell_type": "code",
   "execution_count": 20,
   "metadata": {},
   "outputs": [],
   "source": [
    "df['category']=df['category'].replace({\"HEALTHY LIVING\": \"WELLNESS\",\n",
    "\"QUEER VOICES\": \"GROUPS VOICES\",\n",
    "\"BUSINESS\": \"BUSINESS & FINANCES\",\n",
    "\"PARENTS\": \"PARENTING\",\n",
    "\"BLACK VOICES\": \"GROUPS VOICES\",\n",
    "\"THE WORLDPOST\": \"WORLD NEWS\",\n",
    "\"STYLE\": \"STYLE & BEAUTY\",\n",
    "\"GREEN\": \"ENVIRONMENT\",\n",
    "\"TASTE\": \"FOOD & DRINK\",\n",
    "\"WORLDPOST\": \"WORLD NEWS\",\n",
    "\"SCIENCE\": \"SCIENCE & TECH\",\n",
    "\"TECH\": \"SCIENCE & TECH\",\n",
    "\"MONEY\": \"BUSINESS & FINANCES\",\n",
    "\"ARTS\": \"ARTS & CULTURE\",\n",
    "\"COLLEGE\": \"EDUCATION\",\n",
    "\"LATINO VOICES\": \"GROUPS VOICES\",\n",
    "\"CULTURE & ARTS\": \"ARTS & CULTURE\",\n",
    "\"FIFTY\": \"MISCELLANEOUS\",\n",
    "\"GOOD NEWS\": \"MISCELLANEOUS\"})"
   ]
  },
  {
   "cell_type": "code",
   "execution_count": 21,
   "metadata": {},
   "outputs": [
    {
     "data": {
      "text/plain": [
       "<AxesSubplot:>"
      ]
     },
     "execution_count": 21,
     "metadata": {},
     "output_type": "execute_result"
    },
    {
     "data": {
      "image/png": "[encoded data removed]",
      "text/plain": [
       "<Figure size 432x288 with 1 Axes>"
      ]
     },
     "metadata": {
      "needs_background": "light"
     },
     "output_type": "display_data"
    }
   ],
   "source": [
    "df['category'].value_counts().plot(kind='bar')"
   ]
  },
  {
   "cell_type": "code",
   "execution_count": 31,
   "metadata": {},
   "outputs": [
    {
     "name": "stderr",
     "output_type": "stream",
     "text": [
      "[nltk_data] Downloading package wordnet to\n",
      "[nltk_data]     C:\\Users\\Brett\\AppData\\Roaming\\nltk_data...\n",
      "[nltk_data]   Unzipping corpora\\wordnet.zip.\n"
     ]
    }
   ],
   "source": [
    "import re\n",
    "import nltk\n",
    "nltk.download('wordnet')\n",
    "from nltk.stem.snowball import SnowballStemmer\n",
    "import string \n",
    "import spacy\n",
    "import en_core_web_sm\n",
    "\n",
    "nlp = en_core_web_sm.load()\n",
    "\n",
    "def tokenize_url(url:str):   \n",
    "    url=url.replace(\"https://www.huffingtonpost.com/entry/\",\"\")\n",
    "    url = re.sub(\"[^0-9a-zA-Z\\']+\",\" \",url)\n",
    "    url=url.replace(\"https www huffingtonpost comhttps www outsports com \",\"\")\n",
    "\n",
    "    return url\n",
    "\n",
    "\n",
    "df['tokenized_url']=df['link'].apply(lambda x:tokenize_url(x))\n",
    "\n",
    "#description + headline\n",
    "#df['text_desc_headline'] = df['short_description'] + ' '+ df['headline']\n",
    "\n",
    "\n"
   ]
  },
  {
   "cell_type": "code",
   "execution_count": 23,
   "metadata": {},
   "outputs": [],
   "source": [
    "\n",
    "#cleaning the short description\n",
    "\n",
    "def tokenize_desc(desc:str):   \n",
    "    #desc=re.sub(\"(\\W|_)+\",\" \",desc)\n",
    "    desc=re.sub(\"[^0-9a-zA-Z\\']+\",\" \",desc)\n",
    "    \n",
    "    return desc\n",
    "\n",
    "df.loc[df['short_description'] == '','short_description'] = df['tokenized_url'] + ' '+ df['headline']\n",
    "\n",
    "df['tokenized_desc']=df['short_description'].apply(lambda x:tokenize_desc(x))\n",
    "\n",
    "\n"
   ]
  },
  {
   "cell_type": "code",
   "execution_count": 25,
   "metadata": {},
   "outputs": [
    {
     "ename": "NameError",
     "evalue": "name 'remove_emoji' is not defined",
     "output_type": "error",
     "traceback": [
      "\u001b[1;31m---------------------------------------------------------------------------\u001b[0m",
      "\u001b[1;31mNameError\u001b[0m                                 Traceback (most recent call last)",
      "\u001b[1;32m<ipython-input-25-335abfe49b71>\u001b[0m in \u001b[0;36m<module>\u001b[1;34m\u001b[0m\n\u001b[0;32m     18\u001b[0m     \u001b[1;32mreturn\u001b[0m \u001b[0memoji_pattern\u001b[0m\u001b[1;33m.\u001b[0m\u001b[0msub\u001b[0m\u001b[1;33m(\u001b[0m\u001b[1;34mr''\u001b[0m\u001b[1;33m,\u001b[0m \u001b[0mstring\u001b[0m\u001b[1;33m)\u001b[0m\u001b[1;33m\u001b[0m\u001b[1;33m\u001b[0m\u001b[0m\n\u001b[0;32m     19\u001b[0m \u001b[1;31m#passing the emoji function to 'text_rare'\u001b[0m\u001b[1;33m\u001b[0m\u001b[1;33m\u001b[0m\u001b[1;33m\u001b[0m\u001b[0m\n\u001b[1;32m---> 20\u001b[1;33m \u001b[0mdf\u001b[0m\u001b[1;33m[\u001b[0m\u001b[1;34m'text_desc_headline_url'\u001b[0m\u001b[1;33m]\u001b[0m \u001b[1;33m=\u001b[0m \u001b[0mdf\u001b[0m\u001b[1;33m[\u001b[0m\u001b[1;34m'text_desc_headline_url'\u001b[0m\u001b[1;33m]\u001b[0m\u001b[1;33m.\u001b[0m\u001b[0mapply\u001b[0m\u001b[1;33m(\u001b[0m\u001b[0mremove_emoji\u001b[0m\u001b[1;33m)\u001b[0m\u001b[1;33m\u001b[0m\u001b[1;33m\u001b[0m\u001b[0m\n\u001b[0m",
      "\u001b[1;31mNameError\u001b[0m: name 'remove_emoji' is not defined"
     ]
    }
   ],
   "source": [
    "#tokenized description + headline + tokenized url\n",
    "\n",
    "df['text_desc_headline_url'] = df['tokenized_desc'] + ' '+ df['headline']+\" \" + df['tokenized_url']\n",
    "\n",
    "df['text_desc_headline_url'] = df['text_desc_headline_url'].apply(\n",
    "    lambda x: ' '.join([word.text for word in nlp(x) if not word.is_stop ]))\n",
    "\n",
    "                            \n"
   ]
  },
  {
   "cell_type": "code",
   "execution_count": 26,
   "metadata": {},
   "outputs": [],
   "source": [
    "def remove_emoji(string):\n",
    "    emoji_pattern = re.compile(\"[\"\n",
    "                           u\"\\U0001F600-\\U0001F64F\"  # emoticons\n",
    "                           u\"\\U0001F300-\\U0001F5FF\"  # symbols & pictographs\n",
    "                           u\"\\U0001F680-\\U0001F6FF\"  # transport & map symbols\n",
    "                           u\"\\U0001F1E0-\\U0001F1FF\"  # flags (iOS)\n",
    "                           u\"\\U00002702-\\U000027B0\"\n",
    "                           u\"\\U000024C2-\\U0001F251\"\n",
    "                           \"]+\", flags=re.UNICODE)\n",
    "    return emoji_pattern.sub(r'', string)\n",
    "#passing the emoji function to 'text_rare'\n",
    "df['text_desc_headline_url'] = df['text_desc_headline_url'].apply(remove_emoji)"
   ]
  },
  {
   "cell_type": "code",
   "execution_count": 27,
   "metadata": {},
   "outputs": [
    {
     "data": {
      "text/html": [
       "<div>\n",
       "<style scoped>\n",
       "    .dataframe tbody tr th:only-of-type {\n",
       "        vertical-align: middle;\n",
       "    }\n",
       "\n",
       "    .dataframe tbody tr th {\n",
       "        vertical-align: top;\n",
       "    }\n",
       "\n",
       "    .dataframe thead th {\n",
       "        text-align: right;\n",
       "    }\n",
       "</style>\n",
       "<table border=\"1\" class=\"dataframe\">\n",
       "  <thead>\n",
       "    <tr style=\"text-align: right;\">\n",
       "      <th></th>\n",
       "      <th>short_description</th>\n",
       "      <th>headline</th>\n",
       "      <th>date</th>\n",
       "      <th>link</th>\n",
       "      <th>authors</th>\n",
       "      <th>category</th>\n",
       "      <th>tokenized_url</th>\n",
       "      <th>tokenized_desc</th>\n",
       "      <th>text_desc_headline_url</th>\n",
       "    </tr>\n",
       "  </thead>\n",
       "  <tbody>\n",
       "    <tr>\n",
       "      <th>0</th>\n",
       "      <td>She left her husband. He killed their children...</td>\n",
       "      <td>There Were 2 Mass Shootings In Texas Last Week...</td>\n",
       "      <td>2018-05-26</td>\n",
       "      <td>https://www.huffingtonpost.com/entry/texas-ama...</td>\n",
       "      <td>Melissa Jeltsen</td>\n",
       "      <td>CRIME</td>\n",
       "      <td>texas amanda painter mass shooting us 5b081ab4...</td>\n",
       "      <td>She left her husband He killed their children ...</td>\n",
       "      <td>left husband killed children day America   2 M...</td>\n",
       "    </tr>\n",
       "    <tr>\n",
       "      <th>1</th>\n",
       "      <td>Of course it has a song.</td>\n",
       "      <td>Will Smith Joins Diplo And Nicky Jam For The 2...</td>\n",
       "      <td>2018-05-26</td>\n",
       "      <td>https://www.huffingtonpost.com/entry/will-smit...</td>\n",
       "      <td>Andy McDonald</td>\n",
       "      <td>ENTERTAINMENT</td>\n",
       "      <td>will smith joins diplo and nicky jam for the o...</td>\n",
       "      <td>Of course it has a song</td>\n",
       "      <td>course song   Smith Joins Diplo Nicky Jam 2018...</td>\n",
       "    </tr>\n",
       "  </tbody>\n",
       "</table>\n",
       "</div>"
      ],
      "text/plain": [
       "                                   short_description  \\\n",
       "0  She left her husband. He killed their children...   \n",
       "1                           Of course it has a song.   \n",
       "\n",
       "                                            headline       date  \\\n",
       "0  There Were 2 Mass Shootings In Texas Last Week... 2018-05-26   \n",
       "1  Will Smith Joins Diplo And Nicky Jam For The 2... 2018-05-26   \n",
       "\n",
       "                                                link          authors  \\\n",
       "0  https://www.huffingtonpost.com/entry/texas-ama...  Melissa Jeltsen   \n",
       "1  https://www.huffingtonpost.com/entry/will-smit...    Andy McDonald   \n",
       "\n",
       "        category                                      tokenized_url  \\\n",
       "0          CRIME  texas amanda painter mass shooting us 5b081ab4...   \n",
       "1  ENTERTAINMENT  will smith joins diplo and nicky jam for the o...   \n",
       "\n",
       "                                      tokenized_desc  \\\n",
       "0  She left her husband He killed their children ...   \n",
       "1                           Of course it has a song    \n",
       "\n",
       "                              text_desc_headline_url  \n",
       "0  left husband killed children day America   2 M...  \n",
       "1  course song   Smith Joins Diplo Nicky Jam 2018...  "
      ]
     },
     "execution_count": 27,
     "metadata": {},
     "output_type": "execute_result"
    }
   ],
   "source": [
    "df.head(2)"
   ]
  },
  {
   "cell_type": "code",
   "execution_count": 28,
   "metadata": {},
   "outputs": [],
   "source": [
    "stemmer = SnowballStemmer('english')\n",
    "\n",
    "df['text_desc_headline_url'] = df['text_desc_headline_url'].apply(\n",
    "    lambda x:' '.join([stemmer.stem(y) for y in x.split()]))\n"
   ]
  },
  {
   "cell_type": "code",
   "execution_count": 32,
   "metadata": {},
   "outputs": [],
   "source": [
    "from nltk.stem import WordNetLemmatizer\n",
    "import numpy as np\n",
    "\n",
    "wordnet_lemmatizer = WordNetLemmatizer()\n",
    "\n",
    "lemmatize_words = np.vectorize(wordnet_lemmatizer.lemmatize)\n",
    "        \n",
    "df['text_desc_headline_url'] = df['text_desc_headline_url'].apply(lambda x: ' '.join(lemmatize_words(x.split())) )"
   ]
  },
  {
   "cell_type": "code",
   "execution_count": 33,
   "metadata": {},
   "outputs": [
    {
     "data": {
      "text/html": [
       "<div>\n",
       "<style scoped>\n",
       "    .dataframe tbody tr th:only-of-type {\n",
       "        vertical-align: middle;\n",
       "    }\n",
       "\n",
       "    .dataframe tbody tr th {\n",
       "        vertical-align: top;\n",
       "    }\n",
       "\n",
       "    .dataframe thead th {\n",
       "        text-align: right;\n",
       "    }\n",
       "</style>\n",
       "<table border=\"1\" class=\"dataframe\">\n",
       "  <thead>\n",
       "    <tr style=\"text-align: right;\">\n",
       "      <th></th>\n",
       "      <th>short_description</th>\n",
       "      <th>headline</th>\n",
       "      <th>date</th>\n",
       "      <th>link</th>\n",
       "      <th>authors</th>\n",
       "      <th>category</th>\n",
       "      <th>tokenized_url</th>\n",
       "      <th>tokenized_desc</th>\n",
       "      <th>text_desc_headline_url</th>\n",
       "    </tr>\n",
       "  </thead>\n",
       "  <tbody>\n",
       "    <tr>\n",
       "      <th>0</th>\n",
       "      <td>She left her husband. He killed their children...</td>\n",
       "      <td>There Were 2 Mass Shootings In Texas Last Week...</td>\n",
       "      <td>2018-05-26</td>\n",
       "      <td>https://www.huffingtonpost.com/entry/texas-ama...</td>\n",
       "      <td>Melissa Jeltsen</td>\n",
       "      <td>CRIME</td>\n",
       "      <td>texas amanda painter mass shooting us 5b081ab4...</td>\n",
       "      <td>She left her husband He killed their children ...</td>\n",
       "      <td>left husband kill child day america 2 mass sho...</td>\n",
       "    </tr>\n",
       "    <tr>\n",
       "      <th>1</th>\n",
       "      <td>Of course it has a song.</td>\n",
       "      <td>Will Smith Joins Diplo And Nicky Jam For The 2...</td>\n",
       "      <td>2018-05-26</td>\n",
       "      <td>https://www.huffingtonpost.com/entry/will-smit...</td>\n",
       "      <td>Andy McDonald</td>\n",
       "      <td>ENTERTAINMENT</td>\n",
       "      <td>will smith joins diplo and nicky jam for the o...</td>\n",
       "      <td>Of course it has a song</td>\n",
       "      <td>cours song smith join diplo nicki jam 2018 wor...</td>\n",
       "    </tr>\n",
       "    <tr>\n",
       "      <th>2</th>\n",
       "      <td>The actor and his longtime girlfriend Anna Ebe...</td>\n",
       "      <td>Hugh Grant Marries For The First Time At Age 57</td>\n",
       "      <td>2018-05-26</td>\n",
       "      <td>https://www.huffingtonpost.com/entry/hugh-gran...</td>\n",
       "      <td>Ron Dicker</td>\n",
       "      <td>ENTERTAINMENT</td>\n",
       "      <td>hugh grant marries us 5b09212ce4b0568a880b9a8c</td>\n",
       "      <td>The actor and his longtime girlfriend Anna Ebe...</td>\n",
       "      <td>actor longtim girlfriend anna eberstein tie kn...</td>\n",
       "    </tr>\n",
       "  </tbody>\n",
       "</table>\n",
       "</div>"
      ],
      "text/plain": [
       "                                   short_description  \\\n",
       "0  She left her husband. He killed their children...   \n",
       "1                           Of course it has a song.   \n",
       "2  The actor and his longtime girlfriend Anna Ebe...   \n",
       "\n",
       "                                            headline       date  \\\n",
       "0  There Were 2 Mass Shootings In Texas Last Week... 2018-05-26   \n",
       "1  Will Smith Joins Diplo And Nicky Jam For The 2... 2018-05-26   \n",
       "2    Hugh Grant Marries For The First Time At Age 57 2018-05-26   \n",
       "\n",
       "                                                link          authors  \\\n",
       "0  https://www.huffingtonpost.com/entry/texas-ama...  Melissa Jeltsen   \n",
       "1  https://www.huffingtonpost.com/entry/will-smit...    Andy McDonald   \n",
       "2  https://www.huffingtonpost.com/entry/hugh-gran...       Ron Dicker   \n",
       "\n",
       "        category                                      tokenized_url  \\\n",
       "0          CRIME  texas amanda painter mass shooting us 5b081ab4...   \n",
       "1  ENTERTAINMENT  will smith joins diplo and nicky jam for the o...   \n",
       "2  ENTERTAINMENT     hugh grant marries us 5b09212ce4b0568a880b9a8c   \n",
       "\n",
       "                                      tokenized_desc  \\\n",
       "0  She left her husband He killed their children ...   \n",
       "1                           Of course it has a song    \n",
       "2  The actor and his longtime girlfriend Anna Ebe...   \n",
       "\n",
       "                              text_desc_headline_url  \n",
       "0  left husband kill child day america 2 mass sho...  \n",
       "1  cours song smith join diplo nicki jam 2018 wor...  \n",
       "2  actor longtim girlfriend anna eberstein tie kn...  "
      ]
     },
     "execution_count": 33,
     "metadata": {},
     "output_type": "execute_result"
    }
   ],
   "source": [
    "df.head(3)"
   ]
  },
  {
   "cell_type": "markdown",
   "metadata": {},
   "source": [
    "## Texts for Classification\n",
    "\n",
    "These are some of the fields we can use for the classification task. We create 3 different versions."
   ]
  },
  {
   "cell_type": "code",
   "execution_count": 34,
   "metadata": {},
   "outputs": [],
   "source": [
    "def _reciprocal_rank(true_labels: list, machine_preds: list):\n",
    "    \"\"\"Compute the reciprocal rank at cutoff k\"\"\"\n",
    "    \n",
    "    # add index to list only if machine predicted label exists in true labels\n",
    "    tp_pos_list = [(idx + 1) for idx, r in enumerate(machine_preds) if r in true_labels]\n",
    "\n",
    "    rr = 0\n",
    "    if len(tp_pos_list) > 0:\n",
    "        # for RR we need position of first correct item\n",
    "        first_pos_list = tp_pos_list[0]\n",
    "        \n",
    "        # rr = 1/rank\n",
    "        rr = 1 / float(first_pos_list)\n",
    "\n",
    "    return rr\n",
    "\n",
    "def compute_mrr_at_k(items:list):\n",
    "    \"\"\"Compute the MRR (average RR) at cutoff k\"\"\"\n",
    "    rr_total = 0\n",
    "    \n",
    "    for item in items:   \n",
    "        rr_at_k = _reciprocal_rank(item[0],item[1])\n",
    "        rr_total = rr_total + rr_at_k\n",
    "        mrr = rr_total / 1/float(len(items))\n",
    "\n",
    "    return mrr\n",
    "\n",
    "def collect_preds(Y_test,Y_preds):\n",
    "    \"\"\"Collect all predictions and ground truth\"\"\"\n",
    "    \n",
    "    pred_gold_list=[[[Y_test[idx]],pred] for idx,pred in enumerate(Y_preds)]\n",
    "    return pred_gold_list\n",
    "             \n",
    "def compute_accuracy(eval_items:list):\n",
    "    correct=0\n",
    "    total=0\n",
    "    \n",
    "    for item in eval_items:\n",
    "        true_pred=item[0]\n",
    "        machine_pred=set(item[1])\n",
    "        \n",
    "        for cat in true_pred:\n",
    "            if cat in machine_pred:\n",
    "                correct+=1\n",
    "                break\n",
    "    \n",
    "    \n",
    "    accuracy=correct/float(len(eval_items))\n",
    "    return accuracy\n"
   ]
  },
  {
   "cell_type": "code",
   "execution_count": 35,
   "metadata": {},
   "outputs": [],
   "source": [
    "from sklearn.metrics import precision_recall_fscore_support\n",
    "from sklearn.model_selection import train_test_split\n",
    "from sklearn.linear_model import LogisticRegression\n",
    "from sklearn.feature_extraction.text import CountVectorizer,TfidfVectorizer\n",
    "\n",
    "import numpy as np\n",
    "import logging\n",
    "\n",
    "logging.basicConfig(format='%(asctime)s : %(levelname)s : %(message)s', level=logging.INFO)\n",
    "\n",
    "def extract_features(df,field,training_data,testing_data,type=\"binary\"):\n",
    "    \"\"\"Extract features using different methods\"\"\"\n",
    "    \n",
    "    logging.info(\"Extracting features and creating vocabulary...\")\n",
    "    \n",
    "    if \"binary\" in type:\n",
    "        \n",
    "        # BINARY FEATURE REPRESENTATION\n",
    "        cv= CountVectorizer(binary=True, max_df=0.95)\n",
    "        cv.fit_transform(training_data[field].values)\n",
    "        \n",
    "        train_feature_set=cv.transform(training_data[field].values)\n",
    "        test_feature_set=cv.transform(testing_data[field].values)\n",
    "        \n",
    "        return train_feature_set,test_feature_set,cv\n",
    "  \n",
    "    elif \"counts\" in type:\n",
    "        \n",
    "        # COUNT BASED FEATURE REPRESENTATION\n",
    "        cv= CountVectorizer(binary=False, max_df=0.95)\n",
    "        cv.fit_transform(training_data[field].values)\n",
    "        \n",
    "        train_feature_set=cv.transform(training_data[field].values)\n",
    "        test_feature_set=cv.transform(testing_data[field].values)\n",
    "        \n",
    "        return train_feature_set,test_feature_set,cv\n",
    "    \n",
    "    else:    \n",
    "        \n",
    "        # TF-IDF BASED FEATURE REPRESENTATION\n",
    "        #tfidf_vectorizer=TfidfVectorizer(use_idf=True, max_df=0.95)\n",
    "        tfidf_vectorizer = TfidfVectorizer(sublinear_tf=True,use_idf=True, max_df=0.95,\n",
    "                                norm='max', ngram_range=(1, 2), stop_words='english')\n",
    "\n",
    "        tfidf_vectorizer.fit_transform(training_data[field].values)\n",
    "        \n",
    "        train_feature_set=tfidf_vectorizer.transform(training_data[field].values)\n",
    "        test_feature_set=tfidf_vectorizer.transform(testing_data[field].values)\n",
    "        \n",
    "        return train_feature_set,test_feature_set,tfidf_vectorizer\n",
    "\n",
    "def get_top_k_predictions(model,X_test,k):\n",
    "    \n",
    "    # get probabilities instead of predicted labels, since we want to collect top 3\n",
    "    probs = model.predict_proba(X_test)\n",
    "\n",
    "    # GET TOP K PREDICTIONS BY PROB - note these are just index\n",
    "    best_n = np.argsort(probs, axis=1)[:,-k:]\n",
    "    \n",
    "    # GET CATEGORY OF PREDICTIONS\n",
    "    preds=[[model.classes_[predicted_cat] for predicted_cat in prediction] for prediction in best_n]\n",
    "    \n",
    "    preds=[ item[::-1] for item in preds]\n",
    "    \n",
    "    return preds\n",
    "   \n",
    "    \n",
    "def train_model(df,field=\"text_desc\",feature_rep=\"binary\",top_k=3):\n",
    "    \n",
    "    logging.info(\"Starting model training...\")\n",
    "    \n",
    "    # GET A TRAIN TEST SPLIT (set seed for consistent results)\n",
    "    training_data, testing_data = train_test_split(df,random_state = 2000,)\n",
    "\n",
    "    # GET LABELS\n",
    "    Y_train=training_data['category'].values\n",
    "    Y_test=testing_data['category'].values\n",
    "     \n",
    "    # GET FEATURES\n",
    "    X_train,X_test,feature_transformer=extract_features(df,field,training_data,testing_data,type=feature_rep)\n",
    "\n",
    "    # INIT LOGISTIC REGRESSION CLASSIFIER\n",
    "    logging.info(\"Training a Logistic Regression Model...\")\n",
    "    scikit_log_reg = LogisticRegression(verbose=1, solver='liblinear',random_state=0, C=5, penalty='l2',max_iter=1000)\n",
    "    model=scikit_log_reg.fit(X_train,Y_train)\n",
    "\n",
    "    # GET TOP K PREDICTIONS\n",
    "    preds=get_top_k_predictions(model,X_test,top_k)\n",
    "    \n",
    "    # GET PREDICTED VALUES AND GROUND TRUTH INTO A LIST OF LISTS - for ease of evaluation\n",
    "    eval_items=collect_preds(Y_test,preds)\n",
    "    \n",
    "    # GET EVALUATION NUMBERS ON TEST SET -- HOW DID WE DO?\n",
    "    logging.info(\"Starting evaluation...\")\n",
    "    accuracy=compute_accuracy(eval_items)\n",
    "    mrr_at_k=compute_mrr_at_k(eval_items)\n",
    "    \n",
    "    logging.info(\"Done training and evaluation.\")\n",
    "    \n",
    "    return model,feature_transformer,accuracy,mrr_at_k\n"
   ]
  },
  {
   "cell_type": "markdown",
   "metadata": {},
   "source": [
    "## Train a Single Model"
   ]
  },
  {
   "cell_type": "markdown",
   "metadata": {},
   "source": [
    "### Model  - 1  (binary features with description only)"
   ]
  },
  {
   "cell_type": "code",
   "execution_count": 41,
   "metadata": {},
   "outputs": [
    {
     "name": "stderr",
     "output_type": "stream",
     "text": [
      "2021-04-18 20:44:03,574 : INFO : Starting model training...\n",
      "2021-04-18 20:44:03,677 : INFO : Extracting features and creating vocabulary...\n",
      "2021-04-18 20:44:06,256 : INFO : Training a Logistic Regression Model...\n"
     ]
    },
    {
     "name": "stdout",
     "output_type": "stream",
     "text": [
      "[LibLinear]"
     ]
    },
    {
     "name": "stderr",
     "output_type": "stream",
     "text": [
      "2021-04-18 20:46:08,793 : INFO : Starting evaluation...\n",
      "2021-04-18 20:46:08,845 : INFO : Done training and evaluation.\n"
     ]
    },
    {
     "name": "stdout",
     "output_type": "stream",
     "text": [
      "\n",
      "Accuracy=0.5980862775217614; MRR=0.4805000853388105\n"
     ]
    }
   ],
   "source": [
    "field='text_desc'\n",
    "feature_rep='binary'\n",
    "top_k=3\n",
    "\n",
    "model,transformer,accuracy,mrr_at_k=train_model(df,field=field,feature_rep=feature_rep,top_k=top_k)\n",
    "print(\"\\nAccuracy={0}; MRR={1}\".format(accuracy,mrr_at_k))"
   ]
  },
  {
   "cell_type": "markdown",
   "metadata": {},
   "source": [
    "### Model - 2 (tfidf features with description only)"
   ]
  },
  {
   "cell_type": "code",
   "execution_count": 13,
   "metadata": {},
   "outputs": [
    {
     "name": "stderr",
     "output_type": "stream",
     "text": [
      "2019-11-25 12:44:30,242 : INFO : Starting model training...\n",
      "2019-11-25 12:44:30,308 : INFO : Extracting features and creating vocabulary...\n",
      "2019-11-25 12:44:33,389 : INFO : Training a Logistic Regression Model...\n"
     ]
    },
    {
     "name": "stdout",
     "output_type": "stream",
     "text": [
      "[LibLinear]"
     ]
    },
    {
     "name": "stderr",
     "output_type": "stream",
     "text": [
      "2019-11-25 12:45:21,446 : INFO : Starting evaluation...\n",
      "2019-11-25 12:45:21,515 : INFO : Done training and evaluation.\n"
     ]
    },
    {
     "name": "stdout",
     "output_type": "stream",
     "text": [
      "\n",
      "Accuracy=0.6306323604710702; MRR=0.5108380269670774\n"
     ]
    }
   ],
   "source": [
    "field='text_desc'\n",
    "feature_rep='tfidf'\n",
    "top_k=3\n",
    "\n",
    "model,transformer,accuracy,mrr_at_k=train_model(df,field=field,feature_rep=feature_rep,top_k=top_k)\n",
    "print(\"\\nAccuracy={0}; MRR={1}\".format(accuracy,mrr_at_k))"
   ]
  },
  {
   "cell_type": "markdown",
   "metadata": {},
   "source": [
    "### Model - 3 (tfidf features with description, headline, url)"
   ]
  },
  {
   "cell_type": "code",
   "execution_count": 36,
   "metadata": {},
   "outputs": [
    {
     "name": "stderr",
     "output_type": "stream",
     "text": [
      "2021-04-22 18:01:03,885 : INFO : Starting model training...\n",
      "2021-04-22 18:01:03,967 : INFO : Extracting features and creating vocabulary...\n",
      "2021-04-22 18:01:16,256 : INFO : Training a Logistic Regression Model...\n"
     ]
    },
    {
     "name": "stdout",
     "output_type": "stream",
     "text": [
      "[LibLinear]"
     ]
    },
    {
     "name": "stderr",
     "output_type": "stream",
     "text": [
      "2021-04-22 18:02:41,583 : INFO : Starting evaluation...\n",
      "2021-04-22 18:02:41,643 : INFO : Done training and evaluation.\n"
     ]
    },
    {
     "name": "stdout",
     "output_type": "stream",
     "text": [
      "\n",
      "Accuracy=0.8856886840757808\n"
     ]
    }
   ],
   "source": [
    "field='text_desc_headline_url'\n",
    "feature_rep='tfidf'\n",
    "top_k=3\n",
    "\n",
    "model,transformer,accuracy,mrr_at_k=train_model(df,field=field,feature_rep=feature_rep,top_k=top_k)\n",
    "print(\"\\nAccuracy={0}\".format(accuracy))\n",
    " "
   ]
  },
  {
   "cell_type": "code",
   "execution_count": null,
   "metadata": {},
   "outputs": [],
   "source": [
    "ngram(1,3)\n",
    "Accuracy=0.8824244751664106\n",
    "\n",
    "ngram(1,2)\n",
    "Accuracy=0.884568612391193\n",
    "\n",
    "#with cleaning the link a little bit\n",
    "Accuracy=0.8846006144393241\n",
    "\n",
    "#with removing non-huffpost articles\n",
    "Accuracy=0.8817011081162025\n",
    "\n",
    "#without removing non-huffpost but cleaning the links + filling empty descriptions\n",
    "Accuracy=0.8855606758832565\n",
    "\n",
    "#with keeping the apostrophies in the desc\n",
    "Accuracy=0.8856566820276498"
   ]
  },
  {
   "cell_type": "markdown",
   "metadata": {},
   "source": [
    "## Check Predictions on Unseen Articles from CNN (not HuffPost our training data)"
   ]
  },
  {
   "cell_type": "code",
   "execution_count": 17,
   "metadata": {},
   "outputs": [
    {
     "data": {
      "text/plain": [
       "[['ENTERTAINMENT', 'POLITICS']]"
      ]
     },
     "execution_count": 17,
     "metadata": {},
     "output_type": "execute_result"
    }
   ],
   "source": [
    "# https://www.cnn.com/2019/07/19/politics/george-nader-child-porn-sex-charges/index.html\n",
    "test_features=transformer.transform([\"George Aref Nader, who was a key witness in special counsel Robert Mueller's Russia investigation, faces new charges of transporting a minor with intent to engage in criminal sexual activity and child pornography\"])\n",
    "get_top_k_predictions(model,test_features,2)"
   ]
  },
  {
   "cell_type": "code",
   "execution_count": 18,
   "metadata": {},
   "outputs": [
    {
     "data": {
      "text/plain": [
       "[['STYLE', 'ENTERTAINMENT']]"
      ]
     },
     "execution_count": 18,
     "metadata": {},
     "output_type": "execute_result"
    }
   ],
   "source": [
    "# https://www.cnn.com/2019/07/18/entertainment/khloe-kardashian-true-thompson-video-trnd/index.html\n",
    "test_features=transformer.transform([\"True Thompson makes an adorable cameo in Khloe Kardashian's new makeup tutorial video\"])\n",
    "model.predict(test_features)\n",
    "get_top_k_predictions(model,test_features,2)"
   ]
  },
  {
   "cell_type": "code",
   "execution_count": 17,
   "metadata": {},
   "outputs": [
    {
     "data": {
      "text/plain": [
       "[['ENTERTAINMENT', 'STYLE']]"
      ]
     },
     "execution_count": 17,
     "metadata": {},
     "output_type": "execute_result"
    }
   ],
   "source": [
    "# https://www.cnn.com/2019/07/12/entertainment/heidi-klum-tom-kaulitz/\n",
    "test_features=transformer.transform([\"Heidi Klum is apparently the latest celeb to get married and not tell us\"])\n",
    "get_top_k_predictions(model,test_features,2)"
   ]
  },
  {
   "cell_type": "code",
   "execution_count": 18,
   "metadata": {},
   "outputs": [
    {
     "data": {
      "text/plain": [
       "[['BUSINESS', 'POLITICS']]"
      ]
     },
     "execution_count": 18,
     "metadata": {},
     "output_type": "execute_result"
    }
   ],
   "source": [
    "# https://www.cnn.com/2019/07/19/investing/dow-stock-market-today/index.html\n",
    "test_features=transformer.transform([\"Stocks end lower as geopolitical fears rise. The Dow and US markets closed lower on Friday, as geopolitical worries overshadowed the hopes of interest rate cuts by the Federal Reserve.\"])\n",
    "get_top_k_predictions(model,test_features,2)"
   ]
  },
  {
   "cell_type": "code",
   "execution_count": 19,
   "metadata": {},
   "outputs": [
    {
     "data": {
      "text/plain": [
       "[['SCIENCE', 'HEALTHY LIVING']]"
      ]
     },
     "execution_count": 19,
     "metadata": {},
     "output_type": "execute_result"
    }
   ],
   "source": [
    "# https://www.cnn.com/2019/07/19/health/astronaut-exercise-iv-faint-scn/index.html\n",
    "test_features=transformer.transform([\"Exercise in space keeps astronauts from fainting when they return to Earth, study says. \"])\n",
    "get_top_k_predictions(model,test_features,2)"
   ]
  },
  {
   "cell_type": "markdown",
   "metadata": {},
   "source": [
    "## Train Different Types of Models"
   ]
  },
  {
   "cell_type": "code",
   "execution_count": 20,
   "metadata": {},
   "outputs": [
    {
     "name": "stderr",
     "output_type": "stream",
     "text": [
      "2019-11-25 12:46:27,728 : INFO : Starting model training...\n",
      "2019-11-25 12:46:27,788 : INFO : Extracting features and creating vocabulary...\n",
      "2019-11-25 12:46:30,778 : INFO : Training a Logistic Regression Model...\n"
     ]
    },
    {
     "name": "stdout",
     "output_type": "stream",
     "text": [
      "[LibLinear]"
     ]
    },
    {
     "name": "stderr",
     "output_type": "stream",
     "text": [
      "2019-11-25 12:49:25,346 : INFO : Starting evaluation...\n",
      "2019-11-25 12:49:25,419 : INFO : Done training and evaluation.\n",
      "2019-11-25 12:49:25,462 : INFO : Starting model training...\n",
      "2019-11-25 12:49:25,523 : INFO : Extracting features and creating vocabulary...\n",
      "2019-11-25 12:49:28,496 : INFO : Training a Logistic Regression Model...\n"
     ]
    },
    {
     "name": "stdout",
     "output_type": "stream",
     "text": [
      "[LibLinear]"
     ]
    },
    {
     "name": "stderr",
     "output_type": "stream",
     "text": [
      "2019-11-25 12:53:27,625 : INFO : Starting evaluation...\n",
      "2019-11-25 12:53:27,701 : INFO : Done training and evaluation.\n",
      "2019-11-25 12:53:27,735 : INFO : Starting model training...\n",
      "2019-11-25 12:53:27,797 : INFO : Extracting features and creating vocabulary...\n",
      "2019-11-25 12:53:31,055 : INFO : Training a Logistic Regression Model...\n"
     ]
    },
    {
     "name": "stdout",
     "output_type": "stream",
     "text": [
      "[LibLinear]"
     ]
    },
    {
     "name": "stderr",
     "output_type": "stream",
     "text": [
      "2019-11-25 12:54:17,419 : INFO : Starting evaluation...\n",
      "2019-11-25 12:54:17,493 : INFO : Done training and evaluation.\n",
      "2019-11-25 12:54:17,527 : INFO : Starting model training...\n",
      "2019-11-25 12:54:17,606 : INFO : Extracting features and creating vocabulary...\n",
      "2019-11-25 12:54:22,294 : INFO : Training a Logistic Regression Model...\n"
     ]
    },
    {
     "name": "stdout",
     "output_type": "stream",
     "text": [
      "[LibLinear]"
     ]
    },
    {
     "name": "stderr",
     "output_type": "stream",
     "text": [
      "2019-11-25 12:57:33,965 : INFO : Starting evaluation...\n",
      "2019-11-25 12:57:34,034 : INFO : Done training and evaluation.\n",
      "2019-11-25 12:57:34,072 : INFO : Starting model training...\n",
      "2019-11-25 12:57:34,132 : INFO : Extracting features and creating vocabulary...\n",
      "2019-11-25 12:57:38,488 : INFO : Training a Logistic Regression Model...\n"
     ]
    },
    {
     "name": "stdout",
     "output_type": "stream",
     "text": [
      "[LibLinear]"
     ]
    },
    {
     "name": "stderr",
     "output_type": "stream",
     "text": [
      "2019-11-25 13:02:22,456 : INFO : Starting evaluation...\n",
      "2019-11-25 13:02:22,513 : INFO : Done training and evaluation.\n",
      "2019-11-25 13:02:22,546 : INFO : Starting model training...\n",
      "2019-11-25 13:02:22,594 : INFO : Extracting features and creating vocabulary...\n",
      "2019-11-25 13:02:27,275 : INFO : Training a Logistic Regression Model...\n"
     ]
    },
    {
     "name": "stdout",
     "output_type": "stream",
     "text": [
      "[LibLinear]"
     ]
    },
    {
     "name": "stderr",
     "output_type": "stream",
     "text": [
      "2019-11-25 13:03:19,438 : INFO : Starting evaluation...\n",
      "2019-11-25 13:03:19,507 : INFO : Done training and evaluation.\n",
      "2019-11-25 13:03:19,543 : INFO : Starting model training...\n",
      "2019-11-25 13:03:19,601 : INFO : Extracting features and creating vocabulary...\n",
      "2019-11-25 13:03:25,400 : INFO : Training a Logistic Regression Model...\n"
     ]
    },
    {
     "name": "stdout",
     "output_type": "stream",
     "text": [
      "[LibLinear]"
     ]
    },
    {
     "name": "stderr",
     "output_type": "stream",
     "text": [
      "2019-11-25 13:06:27,931 : INFO : Starting evaluation...\n",
      "2019-11-25 13:06:28,002 : INFO : Done training and evaluation.\n",
      "2019-11-25 13:06:28,057 : INFO : Starting model training...\n",
      "2019-11-25 13:06:28,127 : INFO : Extracting features and creating vocabulary...\n",
      "2019-11-25 13:06:34,953 : INFO : Training a Logistic Regression Model...\n"
     ]
    },
    {
     "name": "stdout",
     "output_type": "stream",
     "text": [
      "[LibLinear]"
     ]
    },
    {
     "name": "stderr",
     "output_type": "stream",
     "text": [
      "2019-11-25 13:11:21,625 : INFO : Starting evaluation...\n",
      "2019-11-25 13:11:21,697 : INFO : Done training and evaluation.\n",
      "2019-11-25 13:11:21,746 : INFO : Starting model training...\n",
      "2019-11-25 13:11:21,805 : INFO : Extracting features and creating vocabulary...\n",
      "2019-11-25 13:11:28,276 : INFO : Training a Logistic Regression Model...\n"
     ]
    },
    {
     "name": "stdout",
     "output_type": "stream",
     "text": [
      "[LibLinear]"
     ]
    },
    {
     "name": "stderr",
     "output_type": "stream",
     "text": [
      "2019-11-25 13:12:26,150 : INFO : Starting evaluation...\n",
      "2019-11-25 13:12:26,222 : INFO : Done training and evaluation.\n"
     ]
    }
   ],
   "source": [
    "feature_reps=['binary','counts','tfidf']\n",
    "fields=['text_desc','text_desc_headline','text_desc_headline_url']\n",
    "top_ks=[3]\n",
    "\n",
    "results=[]\n",
    "for field in fields:\n",
    "    for feature_rep in feature_reps:\n",
    "        for top_k in top_ks:\n",
    "            model,transformer,acc,mrr_at_k=train_model(df,field=field,feature_rep=feature_rep,top_k=top_k)\n",
    "            results.append([field,feature_rep,top_k,acc,mrr_at_k])"
   ]
  },
  {
   "cell_type": "markdown",
   "metadata": {},
   "source": [
    "### Results of Various Models"
   ]
  },
  {
   "cell_type": "code",
   "execution_count": 21,
   "metadata": {},
   "outputs": [
    {
     "data": {
      "text/html": [
       "<div>\n",
       "<style scoped>\n",
       "    .dataframe tbody tr th:only-of-type {\n",
       "        vertical-align: middle;\n",
       "    }\n",
       "\n",
       "    .dataframe tbody tr th {\n",
       "        vertical-align: top;\n",
       "    }\n",
       "\n",
       "    .dataframe thead th {\n",
       "        text-align: right;\n",
       "    }\n",
       "</style>\n",
       "<table border=\"1\" class=\"dataframe\">\n",
       "  <thead>\n",
       "    <tr style=\"text-align: right;\">\n",
       "      <th></th>\n",
       "      <th>text_fields</th>\n",
       "      <th>feature_representation</th>\n",
       "      <th>top_k</th>\n",
       "      <th>accuracy</th>\n",
       "      <th>mrr_at_k</th>\n",
       "    </tr>\n",
       "  </thead>\n",
       "  <tbody>\n",
       "    <tr>\n",
       "      <th>8</th>\n",
       "      <td>text_desc_headline_url</td>\n",
       "      <td>tfidf</td>\n",
       "      <td>3</td>\n",
       "      <td>0.867256</td>\n",
       "      <td>0.751152</td>\n",
       "    </tr>\n",
       "    <tr>\n",
       "      <th>6</th>\n",
       "      <td>text_desc_headline_url</td>\n",
       "      <td>binary</td>\n",
       "      <td>3</td>\n",
       "      <td>0.830165</td>\n",
       "      <td>0.715587</td>\n",
       "    </tr>\n",
       "    <tr>\n",
       "      <th>7</th>\n",
       "      <td>text_desc_headline_url</td>\n",
       "      <td>counts</td>\n",
       "      <td>3</td>\n",
       "      <td>0.829653</td>\n",
       "      <td>0.718131</td>\n",
       "    </tr>\n",
       "    <tr>\n",
       "      <th>5</th>\n",
       "      <td>text_desc_headline</td>\n",
       "      <td>tfidf</td>\n",
       "      <td>3</td>\n",
       "      <td>0.835925</td>\n",
       "      <td>0.717171</td>\n",
       "    </tr>\n",
       "    <tr>\n",
       "      <th>3</th>\n",
       "      <td>text_desc_headline</td>\n",
       "      <td>binary</td>\n",
       "      <td>3</td>\n",
       "      <td>0.794675</td>\n",
       "      <td>0.679169</td>\n",
       "    </tr>\n",
       "    <tr>\n",
       "      <th>4</th>\n",
       "      <td>text_desc_headline</td>\n",
       "      <td>counts</td>\n",
       "      <td>3</td>\n",
       "      <td>0.792179</td>\n",
       "      <td>0.677894</td>\n",
       "    </tr>\n",
       "    <tr>\n",
       "      <th>2</th>\n",
       "      <td>text_desc</td>\n",
       "      <td>tfidf</td>\n",
       "      <td>3</td>\n",
       "      <td>0.630632</td>\n",
       "      <td>0.510838</td>\n",
       "    </tr>\n",
       "    <tr>\n",
       "      <th>0</th>\n",
       "      <td>text_desc</td>\n",
       "      <td>binary</td>\n",
       "      <td>3</td>\n",
       "      <td>0.598054</td>\n",
       "      <td>0.480489</td>\n",
       "    </tr>\n",
       "    <tr>\n",
       "      <th>1</th>\n",
       "      <td>text_desc</td>\n",
       "      <td>counts</td>\n",
       "      <td>3</td>\n",
       "      <td>0.595526</td>\n",
       "      <td>0.478436</td>\n",
       "    </tr>\n",
       "  </tbody>\n",
       "</table>\n",
       "</div>"
      ],
      "text/plain": [
       "              text_fields feature_representation  top_k  accuracy  mrr_at_k\n",
       "8  text_desc_headline_url                  tfidf      3  0.867256  0.751152\n",
       "6  text_desc_headline_url                 binary      3  0.830165  0.715587\n",
       "7  text_desc_headline_url                 counts      3  0.829653  0.718131\n",
       "5      text_desc_headline                  tfidf      3  0.835925  0.717171\n",
       "3      text_desc_headline                 binary      3  0.794675  0.679169\n",
       "4      text_desc_headline                 counts      3  0.792179  0.677894\n",
       "2               text_desc                  tfidf      3  0.630632  0.510838\n",
       "0               text_desc                 binary      3  0.598054  0.480489\n",
       "1               text_desc                 counts      3  0.595526  0.478436"
      ]
     },
     "execution_count": 21,
     "metadata": {},
     "output_type": "execute_result"
    }
   ],
   "source": [
    "df_results=pd.DataFrame(results,columns=['text_fields','feature_representation','top_k','accuracy','mrr_at_k'])\n",
    "df_results.sort_values(by=['text_fields','accuracy'],ascending=False)"
   ]
  },
  {
   "cell_type": "markdown",
   "metadata": {},
   "source": [
    "## Save Model for Future Use\n"
   ]
  },
  {
   "cell_type": "code",
   "execution_count": 28,
   "metadata": {},
   "outputs": [],
   "source": [
    "import pickle\n",
    "\n",
    "model_path=\"../models/model.pkl\"\n",
    "transformer_path=\"../models/transformer.pkl\"\n",
    "\n",
    "# we need to save both the transformer -> to encode a document and the model itself to make predictions based on the weight vectors \n",
    "pickle.dump(model,open(model_path, 'wb'))\n",
    "pickle.dump(transformer,open(transformer_path,'wb'))\n"
   ]
  },
  {
   "cell_type": "markdown",
   "metadata": {},
   "source": [
    "## Use Loaded Model"
   ]
  },
  {
   "cell_type": "code",
   "execution_count": 44,
   "metadata": {},
   "outputs": [
    {
     "data": {
      "text/plain": [
       "[['POLITICS', 'THE WORLDPOST']]"
      ]
     },
     "execution_count": 44,
     "metadata": {},
     "output_type": "execute_result"
    }
   ],
   "source": [
    "loaded_model = pickle.load(open(model_path, 'rb'))\n",
    "loaded_transformer = pickle.load(open(transformer_path, 'rb'))\n",
    "\n",
    "\n",
    "test_features=loaded_transformer.transform([\"President Trump AND THE impeachment story !!!\"])\n",
    "get_top_k_predictions(loaded_model,test_features,2)\n"
   ]
  },
  {
   "cell_type": "code",
   "execution_count": null,
   "metadata": {},
   "outputs": [],
   "source": []
  }
 ],
 "metadata": {
  "kernelspec": {
   "display_name": "Python 3",
   "language": "python",
   "name": "python3"
  },
  "language_info": {
   "codemirror_mode": {
    "name": "ipython",
    "version": 3
   },
   "file_extension": ".py",
   "mimetype": "text/x-python",
   "name": "python",
   "nbconvert_exporter": "python",
   "pygments_lexer": "ipython3",
   "version": "3.8.5"
  }
 },
 "nbformat": 4,
 "nbformat_minor": 4
}
